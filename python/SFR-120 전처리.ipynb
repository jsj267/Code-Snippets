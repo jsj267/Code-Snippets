{
 "cells": [
  {
   "cell_type": "code",
   "execution_count": null,
   "metadata": {},
   "outputs": [],
   "source": [
    "import pandas as pd\n",
    "import os"
   ]
  },
  {
   "cell_type": "code",
   "execution_count": null,
   "metadata": {},
   "outputs": [],
   "source": [
    "os.chdir('./a1')"
   ]
  },
  {
   "cell_type": "code",
   "execution_count": null,
   "metadata": {},
   "outputs": [],
   "source": [
    "file_list = os.listdir()[:]\n",
    "file_list"
   ]
  },
  {
   "cell_type": "code",
   "execution_count": null,
   "metadata": {},
   "outputs": [],
   "source": [
    "final_df = pd.read_csv(file_list[0], index_col=False, names=[\"action\"])\n",
    "final_df['user'] = \"user01\"\n",
    "for file in file_list[1:len(file_list)-1]:\n",
    "    df1 = pd.read_csv(file, index_col=False, names=[\"action\"])\n",
    "    df1['user'] = file[10:16]\n",
    "    final_df = pd.concat([final_df, df1])\n",
    "final_df"
   ]
  },
  {
   "cell_type": "code",
   "execution_count": null,
   "metadata": {
    "scrolled": false
   },
   "outputs": [],
   "source": [
    "final_df[\"id\"] = list(range(1,len(final_df)+1))\n",
    "final_df"
   ]
  },
  {
   "cell_type": "code",
   "execution_count": null,
   "metadata": {
    "scrolled": true
   },
   "outputs": [],
   "source": [
    "final_df['action'] = final_df['action'].str.replace(\"<0> \", \"\")\n",
    "final_df['action'] = final_df['action'].str.replace(\"<1> \", \"\")\n",
    "final_df['action'] = final_df['action'].str.replace(\"<2> \", \"\")\n",
    "final_df['action'] = final_df['action'].str.replace(\"<3> \", \"\")\n",
    "final_df['action'] = final_df['action'].str.replace(\"<4> \", \"\")\n",
    "final_df['action'] = final_df['action'].str.replace(\"<5> \", \"\")\n",
    "final_df['action'] = final_df['action'].str.replace(\"#SUP: \", \"\")\n",
    "final_df['action'] = final_df['action'].str.replace(\"  \", \" \")\n",
    "final_df"
   ]
  },
  {
   "cell_type": "code",
   "execution_count": null,
   "metadata": {},
   "outputs": [],
   "source": [
    "sup = []\n",
    "for i in final_df['action'] :\n",
    "    tmp = i[-2:]\n",
    "    tmp = tmp.strip()\n",
    "    tmp = int(tmp)\n",
    "    sup.append(tmp)\n",
    "final_df['sup'] = sup\n",
    "final_df"
   ]
  },
  {
   "cell_type": "code",
   "execution_count": null,
   "metadata": {},
   "outputs": [],
   "source": [
    "final_df['action'] = final_df['action'].str[:-5]\n",
    "final_df"
   ]
  },
  {
   "cell_type": "code",
   "execution_count": null,
   "metadata": {},
   "outputs": [],
   "source": [
    "split_list = final_df['action'].str.split(\" \")\n",
    "split_list"
   ]
  },
  {
   "cell_type": "code",
   "execution_count": null,
   "metadata": {},
   "outputs": [],
   "source": [
    "split_list.str.get(10)"
   ]
  },
  {
   "cell_type": "code",
   "execution_count": null,
   "metadata": {
    "scrolled": true
   },
   "outputs": [],
   "source": [
    "final_df[\"loc1\"] = split_list.str.get(0) \n",
    "final_df['loc2'] = split_list.str.get(1)\n",
    "final_df['loc3'] = split_list.str.get(2)\n",
    "final_df['loc4'] = split_list.str.get(3)\n",
    "final_df['loc5'] = split_list.str.get(4)\n",
    "final_df['loc6'] = split_list.str.get(5)\n",
    "final_df['loc7'] = split_list.str.get(6)\n",
    "final_df['loc8'] = split_list.str.get(7)\n",
    "final_df['loc9'] = split_list.str.get(8)\n",
    "final_df['loc10'] = split_list.str.get(9)\n",
    "final_df['loc11'] = split_list.str.get(10)\n",
    "final_df['loc12'] = split_list.str.get(11)\n",
    "final_df"
   ]
  },
  {
   "cell_type": "code",
   "execution_count": null,
   "metadata": {},
   "outputs": [],
   "source": [
    "import numpy as np\n",
    "final_df = final_df.replace(\"-1\", np.nan)"
   ]
  },
  {
   "cell_type": "code",
   "execution_count": null,
   "metadata": {},
   "outputs": [],
   "source": [
    "del(final_df['action'])\n",
    "final_df"
   ]
  },
  {
   "cell_type": "code",
   "execution_count": null,
   "metadata": {},
   "outputs": [],
   "source": [
    "final_df.to_csv(\"test.csv\", index=False)"
   ]
  }
 ],
 "metadata": {
  "kernelspec": {
   "display_name": "Python 3",
   "language": "python",
   "name": "python3"
  },
  "language_info": {
   "codemirror_mode": {
    "name": "ipython",
    "version": 3
   },
   "file_extension": ".py",
   "mimetype": "text/x-python",
   "name": "python",
   "nbconvert_exporter": "python",
   "pygments_lexer": "ipython3",
   "version": "3.8.5"
  }
 },
 "nbformat": 4,
 "nbformat_minor": 4
}
